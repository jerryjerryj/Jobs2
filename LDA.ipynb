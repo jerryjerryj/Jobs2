{
  "nbformat": 4,
  "nbformat_minor": 0,
  "metadata": {
    "colab": {
      "name": "LDA.ipynb",
      "version": "0.3.2",
      "views": {},
      "default_view": {},
      "provenance": []
    },
    "kernelspec": {
      "name": "python3",
      "display_name": "Python 3"
    }
  },
  "cells": [
    {
      "metadata": {
        "id": "16QM1GrssMEx",
        "colab_type": "text"
      },
      "cell_type": "markdown",
      "source": [
        "# Downloading data to project"
      ]
    },
    {
      "metadata": {
        "id": "X1KkHZX8sKft",
        "colab_type": "code",
        "colab": {
          "autoexec": {
            "startup": false,
            "wait_interval": 0
          }
        }
      },
      "cell_type": "code",
      "source": [
        "import warnings\n",
        "warnings.filterwarnings(\"ignore\")\n",
        "\n",
        "import urllib3\n",
        "link = 'https://raw.githubusercontent.com/jerryjerryj/Jobs2/master/Data/Vacancies'\n",
        "wiki_link = 'https://raw.githubusercontent.com/jerryjerryj/Jobs2/master/Data/Wiki.txt'\n",
        "pool_manager = urllib3.PoolManager()\n",
        "\n",
        "response = pool_manager.request('GET',link+'/HH.txt')\n",
        "raw_hh = response.data.decode('utf-8').splitlines()\n",
        "\n",
        "response = pool_manager.request('GET',link+'/SJ.txt')\n",
        "raw_sj = response.data.decode('utf-8').splitlines()"
      ],
      "execution_count": 0,
      "outputs": []
    },
    {
      "metadata": {
        "id": "cymFRTzeVXJy",
        "colab_type": "text"
      },
      "cell_type": "markdown",
      "source": [
        "# Data cleansing and tokenization (with lemmatization)"
      ]
    },
    {
      "metadata": {
        "id": "QEITbxGeU_2v",
        "colab_type": "code",
        "colab": {
          "autoexec": {
            "startup": false,
            "wait_interval": 0
          }
        }
      },
      "cell_type": "code",
      "source": [
        "import nltk\n",
        "\n",
        "from nltk.tokenize import word_tokenize\n",
        "from nltk.corpus import stopwords\n",
        "from pymystem3 import Mystem\n",
        "\n",
        "def TokenizeSentencesLemmatized(rawSentences):\n",
        "    print('LEMMATIZED total = ' +str(rawSentences.__len__()))\n",
        "    sentences = []\n",
        "    m = Mystem()\n",
        "    index = 0\n",
        "    for c in rawSentences:\n",
        "        tokenized_sents = m.lemmatize(c)\n",
        "        cleaned_set = []\n",
        "        for tokenized in tokenized_sents:\n",
        "            if tokenized == \"\":\n",
        "                break\n",
        "            tokenized = tokenized.lower()\n",
        "            if tokenized in stopwords.words('russian'):\n",
        "                continue\n",
        "\n",
        "            token = tokenized[0]\n",
        "            if (token >= 'а' and token <= 'я'):\n",
        "                cleaned_set.append(tokenized)\n",
        "            elif ((token >= 'а' and token <= 'я') or (token >= 'a' and token <= 'z')):\n",
        "                cleaned_set.append(tokenized)\n",
        "\n",
        "        if cleaned_set.__len__()>0:\n",
        "            sentences.append(cleaned_set)\n",
        "        if index%1000 == 0:\n",
        "          print(index)\n",
        "        index+=1\n",
        "    return sentences\n"
      ],
      "execution_count": 0,
      "outputs": []
    },
    {
      "metadata": {
        "id": "EFMlAocEV_sV",
        "colab_type": "text"
      },
      "cell_type": "markdown",
      "source": [
        "# LDA"
      ]
    },
    {
      "metadata": {
        "id": "6_tIeobrVs_9",
        "colab_type": "code",
        "colab": {
          "autoexec": {
            "startup": false,
            "wait_interval": 0
          }
        }
      },
      "cell_type": "code",
      "source": [
        "tokenized = TokenizeSentencesLemmatized(raw_hh) +TokenizeSentencesLemmatized(raw_sj)\n"
      ],
      "execution_count": 0,
      "outputs": []
    },
    {
      "metadata": {
        "id": "Ji9nAJyIWZVj",
        "colab_type": "code",
        "colab": {
          "autoexec": {
            "startup": false,
            "wait_interval": 0
          },
          "base_uri": "https://localhost:8080/",
          "height": 377
        },
        "outputId": "418292d9-0268-4a5f-cd9b-cf1dcf76b04e",
        "executionInfo": {
          "status": "ok",
          "timestamp": 1526548379105,
          "user_tz": -300,
          "elapsed": 4375,
          "user": {
            "displayName": "Jerry Jet",
            "photoUrl": "https://lh3.googleusercontent.com/a/default-user=s128",
            "userId": "104372786741163253223"
          }
        }
      },
      "cell_type": "code",
      "source": [
        "import gensim\n",
        "from gensim.corpora import Dictionary\n",
        "from gensim.models.ldamodel import LdaModel\n",
        "\n",
        "dictionary = Dictionary(tokenized)\n",
        "corpus = [dictionary.doc2bow(t) for t in tokenized]\n",
        "lda = LdaModel(corpus=corpus, id2word=dictionary, num_topics=12, update_every=1, chunksize=10000, passes=1)\n",
        "\n",
        "lda.print_topics(10)"
      ],
      "execution_count": 29,
      "outputs": [
        {
          "output_type": "execute_result",
          "data": {
            "text/plain": [
              "[(7,\n",
              "  '0.020*\"работа\" + 0.019*\"опыт\" + 0.017*\"знание\" + 0.013*\"разработка\" + 0.011*\"система\" + 0.010*\"требование\" + 0.007*\"решение\" + 0.007*\"компания\" + 0.007*\"проект\" + 0.006*\"умение\"'),\n",
              " (4,\n",
              "  '0.019*\"знание\" + 0.019*\"работа\" + 0.013*\"опыт\" + 0.012*\"технический\" + 0.010*\"система\" + 0.009*\"разработка\" + 0.008*\"требование\" + 0.007*\"проект\" + 0.007*\"умение\" + 0.006*\"компания\"'),\n",
              " (10,\n",
              "  '0.022*\"работа\" + 0.016*\"опыт\" + 0.012*\"знание\" + 0.009*\"компания\" + 0.008*\"разработка\" + 0.007*\"сайт\" + 0.007*\"требование\" + 0.006*\"проект\" + 0.006*\"информация\" + 0.006*\"система\"'),\n",
              " (9,\n",
              "  '0.036*\"опыт\" + 0.030*\"работа\" + 0.019*\"знание\" + 0.014*\"система\" + 0.010*\"разработка\" + 0.008*\"данные\" + 0.008*\"требование\" + 0.007*\"администрирование\" + 0.006*\"компания\" + 0.005*\"задача\"'),\n",
              " (0,\n",
              "  '0.020*\"работа\" + 0.016*\"технический\" + 0.013*\"разработка\" + 0.011*\"опыт\" + 0.011*\"информационный\" + 0.010*\"безопасность\" + 0.010*\"система\" + 0.009*\"знание\" + 0.008*\"документация\" + 0.007*\"тестирование\"'),\n",
              " (11,\n",
              "  '0.028*\"работа\" + 0.022*\"опыт\" + 0.018*\"разработка\" + 0.015*\"проект\" + 0.013*\"знание\" + 0.012*\"система\" + 0.011*\"технический\" + 0.009*\"документация\" + 0.009*\"требование\" + 0.008*\"умение\"'),\n",
              " (6,\n",
              "  '0.016*\"опыт\" + 0.014*\"знание\" + 0.013*\"работа\" + 0.009*\"разработка\" + 0.008*\"анализ\" + 0.006*\"система\" + 0.006*\"проект\" + 0.006*\"новый\" + 0.005*\"высокий\" + 0.005*\"команда\"'),\n",
              " (2,\n",
              "  '0.019*\"знание\" + 0.016*\"опыт\" + 0.015*\"работа\" + 0.014*\"система\" + 0.010*\"разработка\" + 0.009*\"технический\" + 0.007*\"безопасность\" + 0.007*\"данные\" + 0.006*\"информационный\" + 0.006*\"информация\"'),\n",
              " (8,\n",
              "  '0.031*\"работа\" + 0.015*\"знание\" + 0.014*\"опыт\" + 0.012*\"разработка\" + 0.009*\"умение\" + 0.008*\"технический\" + 0.007*\"проект\" + 0.007*\"условие\" + 0.007*\"компания\" + 0.007*\"сайт\"'),\n",
              " (5,\n",
              "  '0.026*\"работа\" + 0.015*\"опыт\" + 0.014*\"знание\" + 0.010*\"компания\" + 0.009*\"разработка\" + 0.009*\"умение\" + 0.007*\"сайт\" + 0.007*\"задача\" + 0.007*\"технический\" + 0.007*\"система\"')]"
            ]
          },
          "metadata": {
            "tags": []
          },
          "execution_count": 29
        }
      ]
    },
    {
      "metadata": {
        "id": "gUh2rxgVYUWH",
        "colab_type": "text"
      },
      "cell_type": "markdown",
      "source": [
        "# lda +tfidf"
      ]
    },
    {
      "metadata": {
        "id": "Gt-kVCUJYbpy",
        "colab_type": "code",
        "colab": {
          "autoexec": {
            "startup": false,
            "wait_interval": 0
          },
          "base_uri": "https://localhost:8080/",
          "height": 34
        },
        "outputId": "ed8687cf-5912-4092-bfd5-a9dfefa53313",
        "executionInfo": {
          "status": "ok",
          "timestamp": 1526548570889,
          "user_tz": -300,
          "elapsed": 2408,
          "user": {
            "displayName": "Jerry Jet",
            "photoUrl": "https://lh3.googleusercontent.com/a/default-user=s128",
            "userId": "104372786741163253223"
          }
        }
      },
      "cell_type": "code",
      "source": [
        "from keras.preprocessing.text import Tokenizer\n",
        "def get_texts_to_matrix(texts, max_features=0):\n",
        "    tokenizer = Tokenizer(split=\" \", lower=True)\n",
        "    if max_features != 0:\n",
        "        tokenizer = Tokenizer(split=\" \", lower=True, num_words=max_features,char_level='True')\n",
        "\n",
        "    tokenizer.fit_on_texts(texts)\n",
        "    matrix_tfidf = tokenizer.texts_to_matrix(texts=texts, mode='tfidf')\n",
        "    print('Количество текстов:', matrix_tfidf.shape[0])\n",
        "    print('Количество токенов:', matrix_tfidf.shape[1])\n",
        "    return matrix_tfidf, tokenizer.word_index"
      ],
      "execution_count": 30,
      "outputs": [
        {
          "output_type": "stream",
          "text": [
            "Using TensorFlow backend.\n"
          ],
          "name": "stderr"
        }
      ]
    },
    {
      "metadata": {
        "id": "1gxBPPtrYbog",
        "colab_type": "code",
        "colab": {
          "autoexec": {
            "startup": false,
            "wait_interval": 0
          },
          "base_uri": "https://localhost:8080/",
          "height": 88
        },
        "outputId": "381818b0-46e9-4a34-a142-95eb64331137",
        "executionInfo": {
          "status": "ok",
          "timestamp": 1526549533955,
          "user_tz": -300,
          "elapsed": 1472,
          "user": {
            "displayName": "Jerry Jet",
            "photoUrl": "https://lh3.googleusercontent.com/a/default-user=s128",
            "userId": "104372786741163253223"
          }
        }
      },
      "cell_type": "code",
      "source": [
        "tfidf, dictionary = get_texts_to_matrix(tokenized)\n",
        "treshold = 4\n",
        "\n",
        "new_sentences=[]\n",
        "for i in range(0,tokenized.__len__()):\n",
        "  sentence = tokenized[i]\n",
        "  s_tfidf = tfidf[i]\n",
        "  new_sentence = []\n",
        "  for word in sentence:\n",
        "    word_id = dictionary[word]\n",
        "    word_tfidf = s_tfidf[word_id]\n",
        "    if word_tfidf>treshold:\n",
        "        new_sentence.append(word)\n",
        "  new_sentences.append(new_sentence)\n",
        "print(new_sentences[:10])"
      ],
      "execution_count": 50,
      "outputs": [
        {
          "output_type": "stream",
          "text": [
            "Количество текстов: 1563\n",
            "Количество токенов: 9980\n",
            "[['бэкенд', 'net', 'покрытие', 'unit', 'тесто', 'постановка', 'frontend', 'архитектурный', 'постановка', 'спринт', 'демо', 'code', 'review', 'net', 'webapi', 'linq2sql', 'entity', 'tfs', 'профессионально', 'новое', 'пример', 'оканчивать', 'просторный', 'кофемашина', 'печенка', 'книга', 'поощрение', 'ежегодный', 'стартапа'], ['знать', 'писать', 'читаемый', 'код', 'легко', 'следовать', 'гайд', 'практик', 'код', 'успех', 'нужно', 'знать', 'взаимодействовать', 'cocoa', 'design', 'patterns', 'and', 'design', 'autolayout', 'фрейм', 'autolayout', 'кроме', 'пара', 'радикальный', 'storyboard', 'стараться', 'убирать', 'interface', 'builder', 'код', 'это', 'нужно', 'знать', 'последний', 'тренд', 'swift', 'objective', 'c', 'писать', 'фич', 'swift', 'objective', 'c', 'это', 'objective', 'c', 'должный', 'code', 'style', 'code', 'review', 'coredata', 'поэтому', 'coredata', 'крайне', 'вэб', 'сокет', 'юнит', 'согласный', 'а+', 'ходьба', 'новочеркасский', 'компенсация', 'групповой', 'тренировка', 'секция', 'бокс', 'подключаться', 'еженедельный', 'игра', 'футбол', 'волейбол', 'баскетбол', 'вилка', 'иногородний', 'иностранный', 'проживание', 'далее', 'помощь', 'жилье', 'компенсация', 'проезд', 'помощь', 'иностранный', 'гражданин'], ['ведущий', 'ведущий', 'высокопроизводительный', 'давать', 'с#', 'кругозор', 'екатеринбург', 'релокационный', 'готовый', 'готовый', 'обсуждать'], ['middle', 'написать', 'многопоточный', 'расставлять', 'блокировка', 'знать', 'хеш', 'таблица', 'знать', 'kiss', 'solid', 'tdd', 'нереляционный', 'scala', 'coursera', 'оборудовать', 'всевозможный', 'гаджет', 'ходьба', 'сосновый', 'бор', 'вкусный', 'ароматный', 'свежесваривать', 'откликаться', 'давать', 'знакомиться'], ['провожать', 'декомпозиция', 'скоупый', 'взаимодействовать', 'дизайнер', 'проектировать', 'писать', 'писать', 'unit', 'нести', 'думать', 'внимательность', 'внимательность', 'мелочь', 'ios', 'objectiv', 'ios', 'сложность', 'sdk', 'кэширование', 'очередь', 'многопоточность', 'uikit', 'core', 'graphics', 'core', 'data', 'auto', 'layout', 'core', 'animation', 'gcd', 'блок', 'очередь', 'nsoperation', 'nsurlsession', 'sqlite', 'core', 'data', 'cocoapods', 'писать', 'читабельный', 'паттерный', 'реализовать', 'appstore', 'desktop', 'дизайнер', 'по-настоящему', 'влюбленный', 'доступный', 'компенсация', 'компенсация', 'приобретение', 'потенциал', 'рассказ', 'присылать', 'ссылка', 'appstore', 'ссылка', 'профиль', 'github'], ['присоединяться', 'пересоздание', 'стенд', 'локализация', 'дефект', 'релиз', 'дефект', 'недопущение', 'уметь', 'иметь', 'иметь', 'бд', 'oracle', 'владеть', 'экземпляр', 'назначение', 'уметь', 'развертывать', 'настраивать', 'экземпляр', 'бд', 'oracle', 'rac'], ['объектно-ориентированный', 'c', 'c', 'окружение', 'дружелюбие', 'бояться', 'сложность', 'доводить', 'конец', 'клиентоориентированность', 'удовлетворять', 'робот', 'десяток', 'глава', 'счет', 'семинар', 'учебный', 'счет', 'индивидуальный', 'карьера', 'сотрудник', 'забота', 'здоровье', 'сотрудник', 'клиника', 'поликлиника', 'вызов', 'врач', 'дом', 'сервисный', 'палата', 'госпитализация', 'телемедицина', 'полис', 'выезжать', 'зарубеж', 'покрытие', 'вакцинация', 'грипп', 'полис', 'антиклещ', 'подарок', 'честь', 'значимый', 'сотрудник', 'рождение', 'ребенок', 'свадьба', 'подарок', 'ребенок', 'существенный', 'каско', 'район', 'виза', 'автопарковка', 'оборудовать', 'душевой', 'кабина', 'комната', 'настольный', 'теннис', 'настольный', 'футбол', 'тренажер', 'массажный', 'кресло', 'кафе', 'вкусный', 'печение', 'долгополый', 'анастасия'], ['объектно-ориентированный', 'c', 'c', 'окружение', 'дружелюбие', 'бояться', 'сложность', 'доводить', 'конец', 'клиентоориентированность', 'удовлетворять', 'робот', 'десяток', 'глава', 'счет', 'семинар', 'учебный', 'счет', 'индивидуальный', 'карьера', 'сотрудник', 'забота', 'здоровье', 'сотрудник', 'клиника', 'поликлиника', 'вызов', 'врач', 'дом', 'сервисный', 'палата', 'госпитализация', 'телемедицина', 'полис', 'выезжать', 'зарубеж', 'покрытие', 'вакцинация', 'грипп', 'полис', 'антиклещ', 'подарок', 'честь', 'значимый', 'сотрудник', 'рождение', 'ребенок', 'свадьба', 'подарок', 'ребенок', 'существенный', 'каско', 'район', 'виза', 'автопарковка', 'оборудовать', 'душевой', 'кабина', 'комната', 'настольный', 'теннис', 'настольный', 'футбол', 'тренажер', 'массажный', 'кресло', 'кафе', 'вкусный', 'печение', 'долгополый', 'анастасия'], ['писать', 'код', 'scala', 'java', 'взаимодействовать', 'технолог', 'оптимизировать', 'архитектурный', 'переработка', 'старый', 'код', 'исправлять', 'код', 'итак', 'с#', 'java', 'scala', 'являться', 'существенный', 'писать', 'именно', 'scala', 'scala', 'немного', 'java', 'давать', 'реляционный', 'nosql', 'вникать', 'суть', 'просто', 'отправлять', 'являться', 'давать', 'реляционный', 'nosql', 'многопоточный', 'коллективный', 'лингвистика', 'ценить', 'ориентация', 'соблюдение', 'соблюдение', 'писать', 'производительный', 'код', 'переезд', 'индивидуальный', 'карьера', 'сотрудник', 'забота', 'здоровье', 'сотрудник', 'хороший', 'хороший', 'клиника', 'поликлиника', 'вызов', 'врач', 'дом', 'сервисный', 'палата', 'госпитализация', 'телемедицина', 'полис', 'выезжать', 'рубеж', 'покрытие', 'подарок', 'честь', 'значимый', 'сотрудник', 'рождение', 'ребенок', 'свадьба', 'подарок', 'ребенок', 'существенный', 'каско', 'уютный', 'севастополь', 'пеший', 'море', 'хороший', 'вкусный', 'печение'], ['must', 'have', 'objective', 'swift', 'собственноручно', 'кастомный', 'элемент', 'исключительный', 'познание', 'утсроить', 'uikit', 'ruby', 'rx', 'rac', 'объяснять', 'стажер', 'отличаться', 'mvp', 'mvvm', 'uicollectionviewlayout', 'фрукт', 'йогурт', 'орех', 'вкусности', 'петроградский', 'коллекция', 'виниловый', 'пластинка', 'релокационный', 'регион']]\n"
          ],
          "name": "stdout"
        }
      ]
    },
    {
      "metadata": {
        "id": "aU1RILgrb4KD",
        "colab_type": "code",
        "colab": {
          "autoexec": {
            "startup": false,
            "wait_interval": 0
          },
          "base_uri": "https://localhost:8080/",
          "height": 377
        },
        "outputId": "04c319b5-5fe3-4024-c687-baf61fa554e6",
        "executionInfo": {
          "status": "ok",
          "timestamp": 1526549539907,
          "user_tz": -300,
          "elapsed": 3125,
          "user": {
            "displayName": "Jerry Jet",
            "photoUrl": "https://lh3.googleusercontent.com/a/default-user=s128",
            "userId": "104372786741163253223"
          }
        }
      },
      "cell_type": "code",
      "source": [
        "import gensim\n",
        "from gensim.corpora import Dictionary\n",
        "from gensim.models.ldamodel import LdaModel\n",
        "\n",
        "dictionary = Dictionary(new_sentences)\n",
        "corpus = [dictionary.doc2bow(t) for t in new_sentences]\n",
        "lda = LdaModel(corpus=corpus, id2word=dictionary, num_topics=12, update_every=1, chunksize=10000, passes=1)\n",
        "\n",
        "lda.print_topics(10)"
      ],
      "execution_count": 51,
      "outputs": [
        {
          "output_type": "execute_result",
          "data": {
            "text/plain": [
              "[(5,\n",
              "  '0.034*\"безопасность\" + 0.029*\"информационный\" + 0.017*\"защита\" + 0.011*\"информация\" + 0.010*\"интернет\" + 0.006*\"сетевой\" + 0.006*\"иб\" + 0.006*\"средство\" + 0.006*\"бизнес\" + 0.005*\"управление\"'),\n",
              " (2,\n",
              "  '0.007*\"настройка\" + 0.005*\"сетевой\" + 0.004*\"data\" + 0.004*\"сервер\" + 0.004*\"веб\" + 0.003*\"процесс\" + 0.003*\"установка\" + 0.003*\"обработка\" + 0.003*\"java\" + 0.003*\"алгоритм\"'),\n",
              " (6,\n",
              "  '0.009*\"sql\" + 0.006*\"заказчик\" + 0.005*\"бизнес\" + 0.005*\"решение\" + 0.004*\"проект\" + 0.004*\"данные\" + 0.004*\"процесс\" + 0.004*\"web\" + 0.004*\"управление\" + 0.004*\"ита\"'),\n",
              " (8,\n",
              "  '0.012*\"проект\" + 0.012*\"база\" + 0.006*\"данные\" + 0.005*\"рассылка\" + 0.005*\"контент\" + 0.004*\"формирование\" + 0.004*\"управление\" + 0.004*\"google\" + 0.004*\"модель\" + 0.003*\"рекламный\"'),\n",
              " (10,\n",
              "  '0.012*\"бизнес\" + 0.011*\"процесс\" + 0.010*\"oracle\" + 0.009*\"защита\" + 0.007*\"средство\" + 0.007*\"ms\" + 0.006*\"документация\" + 0.006*\"информация\" + 0.006*\"администрирование\" + 0.005*\"безопасность\"'),\n",
              " (9,\n",
              "  '0.038*\"тестирование\" + 0.011*\"тест\" + 0.009*\"оборудование\" + 0.006*\"интернет\" + 0.005*\"тестовый\" + 0.005*\"продвижение\" + 0.004*\"web\" + 0.004*\"документация\" + 0.004*\"кейс\" + 0.003*\"ита\"'),\n",
              " (11,\n",
              "  '0.006*\"защита\" + 0.006*\"модель\" + 0.005*\"оборудование\" + 0.005*\"контент\" + 0.005*\"сеть\" + 0.005*\"информация\" + 0.004*\"сайт\" + 0.004*\"бизнес\" + 0.004*\"безопасность\" + 0.003*\"метод\"'),\n",
              " (7,\n",
              "  '0.019*\"сайт\" + 0.006*\"бд\" + 0.006*\"сеть\" + 0.006*\"продвижение\" + 0.005*\"реклама\" + 0.005*\"oracle\" + 0.005*\"социальный\" + 0.005*\"сервер\" + 0.005*\"продукт\" + 0.005*\"рекламный\"'),\n",
              " (4,\n",
              "  '0.007*\"приложение\" + 0.006*\"средство\" + 0.005*\"защита\" + 0.005*\"иб\" + 0.005*\"банк\" + 0.005*\"данные\" + 0.004*\"безопасность\" + 0.003*\"android\" + 0.003*\"который\" + 0.003*\"программный\"'),\n",
              " (3,\n",
              "  '0.013*\"тестирование\" + 0.007*\"иб\" + 0.006*\"защита\" + 0.006*\"сеть\" + 0.005*\"информация\" + 0.005*\"организация\" + 0.004*\"ита\" + 0.004*\"программный\" + 0.004*\"обеспечение\" + 0.004*\"безопасность\"')]"
            ]
          },
          "metadata": {
            "tags": []
          },
          "execution_count": 51
        }
      ]
    }
  ]
}